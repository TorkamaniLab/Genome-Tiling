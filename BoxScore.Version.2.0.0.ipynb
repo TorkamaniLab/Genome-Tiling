{
 "cells": [
  {
   "cell_type": "code",
   "execution_count": 280,
   "metadata": {},
   "outputs": [],
   "source": [
    "## Recoded for public release 4/26/2024"
   ]
  },
  {
   "cell_type": "code",
   "execution_count": 69,
   "metadata": {},
   "outputs": [],
   "source": [
    "## Input files\n",
    "#  ALL.chr9.phase3_shapeit2_mvncall_integrated_v5b.20130502.genotypes.vcf.gz\n",
    "#  ALL.chr9.phase3_shapeit2_mvncall_integrated_v5b.20130502.genotypes.vcf.gz.tbi (not really needed)\n",
    "\n",
    "## Derived input file (contains VCF row and corresponding allele frequency)\n",
    "#  All.chr9.v5b.linenum.AF.txt\n",
    "\n",
    "## Example of bash command lines needed to create derived input file:\n",
    "#  gatk VariantsToTable -V ALL.chr9.phase3_shapeit2_mvncall_integrated_v5b.20130502.genotypes.vcf.gz -F AF -O All.chr9.v5b.linenum.AF.1.txt\n",
    "#  cat All.chr9.v5b.linenum.AF.1.txt | grep -v \"AF\" > All.chr9.v5b.linenum.AF.2.txt\n",
    "#  cat -n All.chr9.v5b.linenum.AF.2.txt > All.chr9.v5b.linenum.AF.txt\n",
    "#  rm All.chr9.v5b.linenum.AF.1.txt\n",
    "#  rm All.chr9.v5b.linenum.AF.2.txt\n",
    "\n",
    "## Optional input file: Putative PRDM9 binding sites (recombination hotspots)\n",
    "#  ChIPseq_Peaks.YFP_HumanPRDM9.antiGFP.protocolN.p10e-5.sep250.Annotated.txt\n",
    "\n",
    "## Output file (score file)\n",
    "#  chr9.corboxscores.corcut.p45.4000.500.txt"
   ]
  },
  {
   "cell_type": "code",
   "execution_count": 70,
   "metadata": {},
   "outputs": [],
   "source": [
    "## install.packages('corpcor')\n",
    "## install.packages('fdrtool')"
   ]
  },
  {
   "cell_type": "code",
   "execution_count": 71,
   "metadata": {},
   "outputs": [],
   "source": [
    "## Get needed libraries\n",
    "library(corpcor)\n",
    "library(fdrtool)"
   ]
  },
  {
   "cell_type": "code",
   "execution_count": 72,
   "metadata": {},
   "outputs": [],
   "source": [
    "## Parameters\n",
    "\n",
    "## Output file names\n",
    "scorefile <- 'chr9.corboxscores.corcut.p45.4000.500.txt'\n",
    "\n",
    "## Analysis Description\n",
    "adesc <- \"This scoring uses 1000G, and this is a regular run\"\n",
    "\n",
    "n <- 4000     # Set the analysis block size (this is somewhat arbitrary, but needs to be larger then 2 times bx_sz (prefer 4x to 10x)\n",
    "bx_sz <- 500  # set the dimension of the area/box to be summed\n",
    "\n",
    "## Choose filtering method. usefdr = TRUE uses FDR, otherwise use correlation\n",
    "usefdr <- FALSE\n",
    "\n",
    "## Choose to use shrinkage or not\n",
    "useshrink <- FALSE\n",
    "\n",
    "## Use weigthed values instead of threshold cutoffs\n",
    "useweighted <- FALSE\n",
    "\n",
    "## Set cut point. Anything below 5E-6 to 1E-14 seem to yield similar for fdr\n",
    "## Correlation is less obvious, probably between 0.3 and 0.6 for 1000G\n",
    "cutoff <- 1E-10\n",
    "corcutoff <- .45\n",
    "\n",
    "## Pad value (value used to represent the uncomputable ends of the chromosome)\n",
    "padval <- -1\n",
    "\n",
    "## Set MAF cutoff (0.05 is greater than or equal to .05,\n",
    "## and is also less than or equal to .95). This is needed to deal with AF > .5 in VCF\n",
    "maf_cutoff <- 0.05"
   ]
  },
  {
   "cell_type": "code",
   "execution_count": 73,
   "metadata": {},
   "outputs": [],
   "source": [
    "## Read the allele frequency file (chromosome 9 in this case)\n",
    "## Note that this file contains two columns, the VCF file pointer (offset from first VCF record in file),\n",
    "## and the allele frequency.\n",
    "afpath <- ''\n",
    "infile <- 'All.chr9.v5b.linenum.AF.txt'\n",
    "affile <- paste(afpath, infile, sep = '')\n",
    "af_fidx <- read.table(affile, header = FALSE, stringsAsFactors = FALSE)\n",
    "colnames(af_fidx) <- c('fidx', 'af')"
   ]
  },
  {
   "cell_type": "code",
   "execution_count": 74,
   "metadata": {},
   "outputs": [],
   "source": [
    "## Get indexes to the common alleles\n",
    "com_af_vidx <- which((af_fidx[,2] >= maf_cutoff) & (af_fidx[,2] <= (1 - maf_cutoff)))"
   ]
  },
  {
   "cell_type": "code",
   "execution_count": 75,
   "metadata": {},
   "outputs": [],
   "source": [
    "## Open the variant file\n",
    "vcfpath <- ''\n",
    "vcffile <- 'ALL.chr9.phase3_shapeit2_mvncall_integrated_v5b.20130502.genotypes.vcf.gz'\n",
    "vcfcon <- file(paste(vcfpath, vcffile, sep =''), open = 'r' )"
   ]
  },
  {
   "cell_type": "code",
   "execution_count": 76,
   "metadata": {},
   "outputs": [],
   "source": [
    "## Create the output file, initialize it with the first block of data\n",
    "## Open the corr score filt'\n",
    "scorepath <- ''\n",
    "scorefp <- paste(scorepath, scorefile, sep ='')"
   ]
  },
  {
   "cell_type": "code",
   "execution_count": 77,
   "metadata": {},
   "outputs": [],
   "source": [
    "## Write the parameters used for this analysis in comment lines of the score file\n",
    "write(file = scorefp, paste(\"## \", adesc, sep = ''))\n",
    "write(file = scorefp, paste(\"## LD Alternative, Run on \", Sys.Date(), sep = ''), append = TRUE)\n",
    "write(file = scorefp, paste(\"## Input VCF file: \", vcffile, sep = ''), append = TRUE)\n",
    "write(file = scorefp, paste(\"## Input Allele Frequency file: \", infile, sep = ''), append = TRUE)\n",
    "write(file = scorefp, paste(\"## Allele Frequency Cutoff: \", maf_cutoff, sep = ''), append = TRUE)\n",
    "write(file = scorefp, paste(\"## Total No. of Common Variants: \", length(com_af_vidx), sep = ''), append = TRUE)\n",
    "write(file = scorefp, paste(\"## Analysis Window Size: \", n, sep = ''), append = TRUE)\n",
    "write(file = scorefp, paste(\"## Analysis Box/Area Size (per side): \", bx_sz, sep = ''), append = TRUE)\n",
    "if (usefdr) cutoff_method <- \"FDR Threshold\" else cutoff_method = \"Correlation Threshold\"\n",
    "write(file = scorefp, paste(\"## Cutoff Method: \", cutoff_method, sep = ''), append = TRUE)\n",
    "if (usefdr) cutoff_thresh <- cutoff else cutoff_thresh = corcutoff\n",
    "write(file = scorefp, paste(\"## Cutoff Threshold: \", cutoff_thresh, sep = ''), append = TRUE)\n",
    "write(file = scorefp, paste(\"## Use Weighted Sums Instead: \", useweighted, sep = ''), append = TRUE)\n",
    "write(file = scorefp, paste(\"## Shrinkage Used: \", useshrink, sep = ''), append = TRUE)\n",
    "write(file = scorefp, paste(\"## Output Score file: \", scorefile, sep = ''), append = TRUE)\n",
    "write(file = scorefp, paste(\"## Begin/End Chromosome Pad Values: \", padval, sep = ''), append = TRUE)\n",
    "coltitles <- c('filepos_up, filepos_down, chrpos_up, chrpos_down, box_score')\n",
    "write(file = scorefp, paste(\"## Column Names\", sep = ''), append = TRUE)\n",
    "write(file = scorefp, paste(\"## \", coltitles, sep = ''), append = TRUE)"
   ]
  },
  {
   "cell_type": "code",
   "execution_count": 78,
   "metadata": {},
   "outputs": [],
   "source": [
    "## Function used to convert VCF text genotypes into integer coded haploid (ref = 0, alt = 1)\n",
    "## This function doubles the number participants\n",
    "ext_haploid <- function(vars_x) {\n",
    "    ## Extract the two alleles (0 or 1) into seperate integer vectors\n",
    "    vars_left_i <- as.integer(unlist(lapply(vars_x, substr, 1,1)))\n",
    "    vars_right_i <- as.integer(unlist(lapply(vars_x, substr, 3,3)))\n",
    "    ## Convert the vectors to matrices and aggregate the pairs of alleles\n",
    "    vars_left_im <- matrix(vars_left_i, nrow = dim(vars_x)[1], ncol = dim(vars_x)[2])\n",
    "    vars_right_im <- matrix(vars_right_i, nrow = dim(vars_x)[1], ncol = dim(vars_x)[2])\n",
    "    ## Concatenate and transpose the results\n",
    "    vars_im <- t(cbind(vars_left_im, vars_right_im))   # Concatenation\n",
    "    return(vars_im)            \n",
    "}"
   ]
  },
  {
   "cell_type": "code",
   "execution_count": 79,
   "metadata": {},
   "outputs": [],
   "source": [
    "## Read the HumanPRDM9 binding information (putative hotspots)\n",
    "hotpath <- ''\n",
    "hotfile <- 'ChIPseq_Peaks.YFP_HumanPRDM9.antiGFP.protocolN.p10e-5.sep250.Annotated.txt'\n",
    "hotfp <- paste(hotpath, hotfile, sep = '')\n",
    "hotspots <- read.table(hotfp, header = TRUE)[,1:10]\n",
    "\n",
    "## Notice that this hardcoded for chr9. Change as needed.\n",
    "## Get just the positions of hotspots in chr9\n",
    "chr9hot <- hotspots[hotspots$chr == 'chr9', 'center_start']"
   ]
  },
  {
   "cell_type": "code",
   "execution_count": 80,
   "metadata": {},
   "outputs": [],
   "source": [
    "## Read up to through first n common variants to get things set up\n",
    "lastrec <- af_fidx[1,1] - 1\n",
    "ncom <- com_af_vidx[n]\n",
    "totlines <- lastrec + ncom\n",
    "vcfcon <- file(paste(vcfpath, vcffile, sep =''), open = 'r' ) ## Reset file pointer\n",
    "firstnall <- readLines(vcfcon, n = 1000) ## Get the comment lines (readying first 1000 lines should be enough)\n",
    "## Need to remove comment lines. First get number of comment lines\n",
    "ncomments <- sum(substr(firstnall, 1, 1) == \"#\")\n",
    "vcfcon <- file(paste(vcfpath, vcffile, sep =''), open = 'r' ) ## Reset file pointer\n",
    "firstnall <- readLines(vcfcon, n = ncomments) # Read/Flush the comment lines\n",
    "firstnall <- readLines(vcfcon, n = totlines) # Read the first block of variants"
   ]
  },
  {
   "cell_type": "code",
   "execution_count": 81,
   "metadata": {},
   "outputs": [],
   "source": [
    "## Set up the containers for the variant records (paramaters and participant variants)\n",
    "npars <- 9 # This is the vcf definition\n",
    "nparts <- length(unlist(unlist(strsplit(firstnall[com_af_vidx[1] + lastrec], '\\t')))) - npars\n",
    "pars <- matrix('', nrow = n, ncol = npars)\n",
    "vars <- matrix('', nrow = n, ncol = nparts)"
   ]
  },
  {
   "cell_type": "code",
   "execution_count": 82,
   "metadata": {},
   "outputs": [],
   "source": [
    "## Initialize pars and vars with first round of n common variant records\n",
    "## This does most of the magic of extracting just the common allele informations\n",
    "for (i in 1:n) {\n",
    "    psandvs <- unlist(unlist(strsplit(firstnall[com_af_vidx[i] + lastrec], '\\t')))\n",
    "    pars[i,] <- psandvs[1:npars]\n",
    "    vars[i,] <- psandvs[(npars + 1):(nparts + npars)]\n",
    "}"
   ]
  },
  {
   "cell_type": "code",
   "execution_count": 83,
   "metadata": {},
   "outputs": [],
   "source": [
    "## Convert the diploid character based variants into haploid integer based variants \n",
    "vars_im <- ext_haploid(vars)"
   ]
  },
  {
   "cell_type": "code",
   "execution_count": 84,
   "metadata": {},
   "outputs": [],
   "source": [
    "## Get the first correlation matrix\n",
    "if (useshrink) pc_vars <- cor.shrink(vars_im) else pc_vars <- cor(vars_im)"
   ]
  },
  {
   "cell_type": "code",
   "execution_count": 85,
   "metadata": {},
   "outputs": [],
   "source": [
    "## Vectorize the matrix (below the diagonal)\n",
    "pc_vars_v <- sm2vec(pc_vars)\n",
    "pc_vars_in <- sm.index(pc_vars)"
   ]
  },
  {
   "cell_type": "code",
   "execution_count": 86,
   "metadata": {},
   "outputs": [],
   "source": [
    "## Compute the false discovery rates, if needed\n",
    "if (usefdr) pc_vars_fdr <- fdrtool(pc_vars_v, statistic = 'correlation')"
   ]
  },
  {
   "cell_type": "code",
   "execution_count": 87,
   "metadata": {},
   "outputs": [],
   "source": [
    "## filter at cut point according to parms set above\n",
    "if (usefdr) cutvec <- pc_vars_fdr$qval <= cutoff else cutvec <- (abs(pc_vars_v) >= corcutoff)\n",
    "\n",
    "## Force all the positive values to 1 if not weighted, otherwise use absolute correlation value\n",
    "if (!useweighted) {\n",
    "    pc_vars_vfilt <- rep(0, length(pc_vars_v))\n",
    "    pc_vars_vfilt[cutvec] <- 1 }\n",
    "if(useweighted) pc_vars_vfilt <- abs(pc_vars_v) \n",
    "\n",
    "## Convert the vector back into a symmetric matrix, force the diagonal to 1\n",
    "pc_vars_filt01 <- vec2sm(pc_vars_vfilt)\n",
    "diag(pc_vars_filt01) <- 1"
   ]
  },
  {
   "cell_type": "code",
   "execution_count": 88,
   "metadata": {},
   "outputs": [],
   "source": [
    "## Get the matching positions of the filtered variants\n",
    "vars_im_pos <- pars[,2]"
   ]
  },
  {
   "cell_type": "code",
   "execution_count": 89,
   "metadata": {},
   "outputs": [],
   "source": [
    "pc_vars_filt_start <- pc_vars_filt01"
   ]
  },
  {
   "cell_type": "code",
   "execution_count": 90,
   "metadata": {},
   "outputs": [],
   "source": [
    "# get lower positions of nearest hotspot for each variant in this window\n",
    "hotspot_var <- vector(mode = 'integer', length = length(vars_im_pos))\n",
    "for (i in 1:length(vars_im_pos)){\n",
    "   hotspot_var[i] <- which(vars_im_pos[i] <= chr9hot)[1]\n",
    "}"
   ]
  },
  {
   "cell_type": "code",
   "execution_count": 91,
   "metadata": {},
   "outputs": [],
   "source": [
    "# Get just line positions of hotspots in chr9\n",
    "chr9hot <- hotspots[hotspots$chr == 'chr9', 'center_start']\n",
    "hotgridpoints <- which(hotspot_var[1:(length(hotspot_var)-1)] != hotspot_var[2:length(hotspot_var)])"
   ]
  },
  {
   "cell_type": "code",
   "execution_count": 92,
   "metadata": {},
   "outputs": [],
   "source": [
    "## Compute the box sums for first block\n",
    "bx_sms <- rep.int(padval, times = n - 1)\n",
    "# names(bx_sms) = paste('B', as.character(1:(rg_sz-1)),'_',\n",
    "#                       as.character(2:rg_sz), sep ='') \n",
    "names(bx_sms) = paste('B', as.character(1:(n - 1)), '_',\n",
    "                      as.character(2:n), sep = '') \n",
    "for (i in (1:(n - 2 * bx_sz + 1))) {\n",
    "    bx_sms[i + bx_sz - 1] = sum(pc_vars_filt01[i:(i + bx_sz - 1),\n",
    "                                               (i + bx_sz):(i + 2 * bx_sz - 1)])\n",
    "    }"
   ]
  },
  {
   "cell_type": "code",
   "execution_count": 95,
   "metadata": {},
   "outputs": [],
   "source": [
    "## Create the first section to write (it includes the left most data, which was forced to padval)\n",
    "score_mat <- cbind(com_af_vidx[1:(n-bx_sz)],\n",
    "                   com_af_vidx[2:(n-bx_sz + 1)],\n",
    "                   vars_im_pos[1:(n-bx_sz)],\n",
    "                   vars_im_pos[2:(n-bx_sz + 1)],\n",
    "                   bx_sms[1:(n - bx_sz)])\n",
    "# colnames(score_mat) <- c('filepos_up', 'filepos_down', 'chrpos_up', 'chrpos_down', 'box_score')"
   ]
  },
  {
   "cell_type": "code",
   "execution_count": 96,
   "metadata": {},
   "outputs": [
    {
     "data": {
      "image/png": "[encoded data removed]",
      "text/plain": [
       "plot without title"
      ]
     },
     "metadata": {
      "image/png": {
       "height": 420,
       "width": 420
      }
     },
     "output_type": "display_data"
    }
   ],
   "source": [
    "## Plot the first block correlation matrix (for information only)\n",
    "image(pc_vars_filt_start[1:n, n:1], col = c('black', 'white'))"
   ]
  },
  {
   "cell_type": "code",
   "execution_count": 97,
   "metadata": {},
   "outputs": [
    {
     "data": {
      "image/png": "[encoded data removed]",
      "text/plain": [
       "plot without title"
      ]
     },
     "metadata": {
      "image/png": {
       "height": 420,
       "width": 420
      }
     },
     "output_type": "display_data"
    }
   ],
   "source": [
    "## Plot the first block box scores (for information only)\n",
    "plot(bx_sms, type = 'o', pch = 46, x = (1:(n - 1)),\n",
    "    xlab = \"genomic position in 1000's nts\",\n",
    "    ylab = 'box sums', xaxs = \"i\")\n",
    "## Overlay the PRDM9 hotspot gridpoints (putative binding sites\n",
    "abline(v = hotgridpoints, col = 'red', lwd = .5)"
   ]
  },
  {
   "cell_type": "code",
   "execution_count": 98,
   "metadata": {},
   "outputs": [],
   "source": [
    "## Write out the first block, append\n",
    "write.table(score_mat, file = scorefp, quote = FALSE,\n",
    "            sep = '\\t', append = TRUE, row.names = FALSE, col.names = FALSE)"
   ]
  },
  {
   "cell_type": "code",
   "execution_count": 99,
   "metadata": {},
   "outputs": [],
   "source": [
    "## Compute the number of iterations needed to scan\n",
    "## the chromosome (exclude very top region + 1 group)\n",
    "no_its <- as.integer((length(com_af_vidx) / (n - 2 * bx_sz + 1)))"
   ]
  },
  {
   "cell_type": "code",
   "execution_count": 100,
   "metadata": {},
   "outputs": [],
   "source": [
    "## Initialize iterative genotype variable with the first read  \n",
    "vars_im2 <- vars_im\n",
    "## Initialize parameters matrix with first set of parameters\n",
    "pars2 <- pars\n",
    "## Initialize loop parameters\n",
    "cvend <- n\n",
    "cvinc <- n - 2 * bx_sz + 1"
   ]
  },
  {
   "cell_type": "code",
   "execution_count": null,
   "metadata": {},
   "outputs": [],
   "source": [
    "## Loop through the remaining blocks less the very end block\n",
    "\n",
    "for (i in 1:(no_its - 2)) { # All but the last two iterations, as it will be a regular and short set\n",
    "    \n",
    "    cvstart <- cvend\n",
    "    cvend <- cvstart + cvinc\n",
    "    com_af_vidx[cvstart]\n",
    "    com_af_vidx[cvend]\n",
    "    ncomi <- com_af_vidx[cvend] - com_af_vidx[cvstart] \n",
    "    \n",
    "    nextn_minus_2bx <- readLines(vcfcon, n = ncomi)\n",
    "    # print(substr(nextn_minus_2bx[length(nextn_minus_2bx)], 1, 100))\n",
    "\n",
    "    ## Find the pointers to the new common variants in this iteration\n",
    "    cv <- com_af_vidx[(cvstart + 1):cvend] - com_af_vidx[cvstart] \n",
    "    \n",
    "    ## Set up the containers for the variant records (paramaters and participant variants)\n",
    "    loop_pars <- matrix('', nrow = cvinc, ncol = npars)\n",
    "    loop_vars <- matrix('', nrow = cvinc, ncol = nparts)\n",
    "\n",
    "    for (j in 1:cvinc) {\n",
    "        psandvs <- unlist(unlist(strsplit(nextn_minus_2bx[cv[j]], '\\t')))\n",
    "        loop_pars[j,] <- psandvs[1:npars]\n",
    "        loop_vars[j,] <- psandvs[(npars + 1):(nparts + npars)]\n",
    "        } \n",
    "    ## Convert the diploid character variants into haploid integer variants \n",
    "    loop_vars_im <- ext_haploid(loop_vars)\n",
    "    ## Shift the genotypes and append the newly read genotypes\n",
    "    vars_im2 <- cbind(vars_im2[,(cvinc + 1):(n)] , loop_vars_im) \n",
    "    \n",
    "    ## Shift the parameters object and append the newly read parameters\n",
    "    pars2 <- rbind(pars2[(cvinc + 1):(n),] , loop_pars)\n",
    "    # print(dim(vars_im))\n",
    "    \n",
    "    ## Get the iterated correlation matrix\n",
    "    if (useshrink) pc_vars2 <- cor.shrink(vars_im2, verbose = FALSE) else pc_vars2 <- cor(vars_im2)\n",
    "    \n",
    "    ## Vectorize the matrix (below the diagonal)\n",
    "    pc_vars_v2 <- sm2vec(pc_vars2)\n",
    "    \n",
    "    ## Compute the false discovery rates\n",
    "    if (usefdr) pc_vars_fdr2 <- fdrtool(pc_vars_v2, statistic = 'correlation', plot = FALSE, verbose = FALSE)\n",
    "    \n",
    "    ## filter in at cut point\n",
    "    if (usefdr) cutvec2 <- pc_vars_fdr2$qval <= cutoff else cutvec2 <- abs(pc_vars_v2) >= corcutoff\n",
    "\n",
    "    ## Force all the positvie values to 1 if not weighted, otherwise use absolute correlation value\n",
    "    if (!useweighted) {\n",
    "        pc_vars_vfilt <- rep(0, length(pc_vars_v2))\n",
    "        pc_vars_vfilt[cutvec2] <- 1 }\n",
    "    if(useweighted) pc_vars_vfilt <- abs(pc_vars_v2) \n",
    "    \n",
    "    \n",
    "    ## Convert the vector back into a symmetric matrix, force the diagonal to 1\n",
    "    pc_vars_filt01 <- vec2sm(pc_vars_vfilt)\n",
    "    diag(pc_vars_filt01) <- 1\n",
    "    \n",
    "    ## Get the matching positions of the filtered variants\n",
    "    vars_im_pos2 <- pars2[,2]\n",
    "    \n",
    "    ## Compute the box sums\n",
    "    bx_sms2 <- rep.int(padval, times = n - 1)\n",
    "    for (j in (1:(n - 2 * bx_sz + 1))) {\n",
    "        bx_sms2[j + bx_sz - 1] <- sum(pc_vars_filt01[j:(j + bx_sz - 1),\n",
    "                                                   (j + bx_sz):(j + 2 * bx_sz - 1)])\n",
    "        }\n",
    "    \n",
    "    ## Create the iterated section to write (it will exclude the left and right most data\n",
    "    score_mat2 <- cbind(    com_af_vidx[(cvstart - bx_sz + 1):(cvend - bx_sz + 0)],\n",
    "                            com_af_vidx[(cvstart - bx_sz + 2):(cvend - bx_sz + 1)],\n",
    "                            vars_im_pos2[(bx_sz + 0):(n - bx_sz + 0)],\n",
    "                            vars_im_pos2[(bx_sz + 1):(n - bx_sz + 1)],\n",
    "                            bx_sms2[(bx_sz):(n - bx_sz)])\n",
    "     \n",
    "    ## Write out the appropriate subset of the iterated block, appended   \n",
    "    write.table(score_mat2, file = scorefp, quote = FALSE,\n",
    "                sep = '\\t', append = TRUE, row.names = FALSE, col.names = FALSE)    \n",
    "}"
   ]
  },
  {
   "cell_type": "code",
   "execution_count": null,
   "metadata": {},
   "outputs": [],
   "source": [
    "## This is the beginning cell that manages the stub/remainder  \n",
    "remain <- length(com_af_vidx) - cvend\n",
    "newn <- n - cvinc + remain \n",
    "cvinc_r <- length(com_af_vidx) - cvend\n",
    "cvstart_r <- cvend\n",
    "cvend_r <- cvstart_r + cvinc_r\n",
    "ncomi_r <- com_af_vidx[cvend_r] - com_af_vidx[cvstart_r]"
   ]
  },
  {
   "cell_type": "code",
   "execution_count": null,
   "metadata": {},
   "outputs": [],
   "source": [
    "## Read the remaining common variant records\n",
    "nextn_minus_2bx <- readLines(vcfcon, n = ncomi_r)\n",
    "# print(substr(nextn_minus_2bx[length(nextn_minus_2bx)], 1, 100))\n",
    "\n",
    "## Find the pointers to the new common variants in this iteration\n",
    "cv <- com_af_vidx[(cvstart_r + 1):cvend_r] - com_af_vidx[cvstart_r] \n",
    "    \n",
    "## Set up the containers for the variant records (paramaters and participant variants)\n",
    "loop_pars <- matrix('', nrow = cvinc_r, ncol = npars)\n",
    "loop_vars <- matrix('', nrow = cvinc_r, ncol = nparts)"
   ]
  },
  {
   "cell_type": "code",
   "execution_count": null,
   "metadata": {},
   "outputs": [],
   "source": [
    "for (j in 1:cvinc_r) {\n",
    "    psandvs <- unlist(unlist(strsplit(nextn_minus_2bx[cv[j]], '\\t')))\n",
    "    loop_pars[j,] <- psandvs[1:npars]\n",
    "    loop_vars[j,] <- psandvs[(npars + 1):(nparts + npars)]\n",
    "    } \n",
    "## Convert the diploid text variants into haploid integer variants \n",
    "loop_vars_im <- ext_haploid(loop_vars)\n",
    "## Shift the genotypes and append the newly read genotypes\n",
    "vars_im2 <- cbind(vars_im2[,(cvinc + 1):(n)] , loop_vars_im) # Use the old increment for shifting"
   ]
  },
  {
   "cell_type": "code",
   "execution_count": null,
   "metadata": {},
   "outputs": [],
   "source": [
    "## Shift the parameters object and append the newly read parameters\n",
    "pars2 <- rbind(pars2[(cvinc + 1):(n),] , loop_pars)\n",
    "# print(dim(vars_im))\n",
    "    \n",
    "## Get the iterated correlation matrix\n",
    "if (useshrink) pc_vars2 <- cor.shrink(vars_im2, verbose = FALSE) else pc_vars2 <- cor(vars_im2)\n",
    "\n",
    "## Vectorize the matrix (below the diagonal)\n",
    "pc_vars_v2 <- sm2vec(pc_vars2)\n",
    "    \n",
    "## Compute the false discovery rates\n",
    "if (usefdr) pc_vars_fdr2 <- fdrtool(pc_vars_v2, statistic = 'correlation', plot = FALSE, verbose = FALSE)"
   ]
  },
  {
   "cell_type": "code",
   "execution_count": null,
   "metadata": {},
   "outputs": [],
   "source": [
    "## filter in at cut point\n",
    "if (usefdr) cutvec2 <- pc_vars_fdr2$qval <= cutoff else cutvec2 <- abs(pc_vars_v2) >= corcutoff\n",
    "\n",
    "## Force all the positvie values to 1\n",
    "# pc_vars_vfilt <- rep(0, length(pc_vars_v2))\n",
    "# pc_vars_vfilt[cutvec2] <- 1\n",
    "\n",
    "## Force all the positvie values to 1 if not weighted, otherwise use absolute correlation value\n",
    "if (!useweighted) {\n",
    "    pc_vars_vfilt <- rep(0, length(pc_vars_v2))\n",
    "    pc_vars_vfilt[cutvec2] <- 1 }\n",
    "if(useweighted) pc_vars_vfilt <- abs(pc_vars_v2) \n",
    "\n",
    "## Convert the vector back into a symmetric matrix, force the diagonal to 1\n",
    "pc_vars_filt01 <- vec2sm(pc_vars_vfilt)\n",
    "diag(pc_vars_filt01) <- 1\n",
    "    \n",
    "## Get the matching positions of the filtered variants\n",
    "vars_im_pos2 <- pars2[,2]"
   ]
  },
  {
   "cell_type": "code",
   "execution_count": null,
   "metadata": {},
   "outputs": [],
   "source": [
    "## Compute the box sums\n",
    "bx_sms2 <- rep.int(padval, times = newn - 1)\n",
    "for (j in (1:(newn - 2 * bx_sz + 1))) {\n",
    "    bx_sms2[j + bx_sz - 1] = sum(pc_vars_filt01[j:(j + bx_sz - 1),\n",
    "    (j + bx_sz):(j + 2 * bx_sz - 1)])\n",
    "    }"
   ]
  },
  {
   "cell_type": "code",
   "execution_count": null,
   "metadata": {},
   "outputs": [],
   "source": [
    "## Create the iterated section to write (it will exclude the left and right most data\n",
    "score_mat2_r <- cbind(com_af_vidx[(cvstart_r - bx_sz + 1):(cvend_r-1)],\n",
    "                    com_af_vidx[(cvstart_r - bx_sz + 2):(cvend_r + 1-1)],\n",
    "                    vars_im_pos2[(bx_sz + 0):(newn + 0-1)],\n",
    "                    vars_im_pos2[(bx_sz + 1):(newn + 1-1)],\n",
    "                    bx_sms2[(bx_sz):(newn-1)])"
   ]
  },
  {
   "cell_type": "code",
   "execution_count": null,
   "metadata": {},
   "outputs": [],
   "source": [
    "## Write out the appropriate subset of the iterated block, appended   \n",
    "write.table(score_mat2_r, file = scorefp, quote = FALSE,\n",
    "            sep = '\\t', append = TRUE, row.names = FALSE, col.names = FALSE)"
   ]
  },
  {
   "cell_type": "code",
   "execution_count": null,
   "metadata": {},
   "outputs": [],
   "source": []
  }
 ],
 "metadata": {
  "kernelspec": {
   "display_name": "R4.0.0",
   "language": "R",
   "name": "ir"
  },
  "language_info": {
   "codemirror_mode": "r",
   "file_extension": ".r",
   "mimetype": "text/x-r-source",
   "name": "R",
   "pygments_lexer": "r",
   "version": "4.0.0"
  }
 },
 "nbformat": 4,
 "nbformat_minor": 4
}
