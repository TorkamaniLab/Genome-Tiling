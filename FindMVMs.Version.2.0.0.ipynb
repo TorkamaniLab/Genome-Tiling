{
 "cells": [
  {
   "cell_type": "code",
   "execution_count": null,
   "metadata": {},
   "outputs": [],
   "source": [
    "## Recoded for public release 4/26/2024"
   ]
  },
  {
   "cell_type": "code",
   "execution_count": 1,
   "metadata": {},
   "outputs": [],
   "source": [
    "## Input files\n",
    "## chr9.corboxscores.corcut.p45.4000.500.txt\n",
    "\n",
    "## Output files\n",
    "## chr9.p45.mnts.valleys.tsv\n",
    "## chr9.p45.4500.mnts.minima.tsv"
   ]
  },
  {
   "cell_type": "code",
   "execution_count": 2,
   "metadata": {},
   "outputs": [],
   "source": [
    "## Point to the input score file, \n",
    "scorepath <- ''\n",
    "scorefile <- 'chr9.corboxscores.corcut.p45.4000.500.txt'\n",
    "scorefp <- paste(scorepath, scorefile, sep = '')"
   ]
  },
  {
   "cell_type": "code",
   "execution_count": 3,
   "metadata": {},
   "outputs": [],
   "source": [
    "## Generic description of what's in the output files\n",
    "adesc <- 'File 1 is the mountains and valleys file, one line each, File 2 are local minima in large mountains'"
   ]
  },
  {
   "cell_type": "code",
   "execution_count": 4,
   "metadata": {},
   "outputs": [],
   "source": [
    "## Point to the output files (this code assumes that same output directory)\n",
    "outpath <- '' \n",
    "\n",
    "## Point to the output file 1, \n",
    "vspallfile <- 'chr9.p45.mnts.valleys.tsv'\n",
    "vpfp2 <- paste(outpath, vspallfile, sep = '')\n",
    "\n",
    "## Point to the output file 2, \n",
    "minimafile <- 'chr9.p45.4500.mnts.minima.tsv'\n",
    "mnma <- paste(outpath, minimafile, sep = '')"
   ]
  },
  {
   "cell_type": "code",
   "execution_count": 5,
   "metadata": {},
   "outputs": [],
   "source": [
    "## These are variable/parameters used for find mountains and valleys\n",
    "## Set up threshold and hysteresis parameters\n",
    "thresh <- 10   ## Valley threshold\n",
    "hyster_v <- 3  ## Valley hysteresis\n",
    "hyster_m <- 3  ## Mountain hysteresis\n",
    "\n",
    "## ## These are variable/parameters used for minima discovery\n",
    "maxm <- 4500 ## Mountain size, i.e. minimum size of mountain to be broken up\n",
    "wsize <- 200 ## window (or bin) size used for breaking up mountains\n",
    "extthresh <- 1000 ## minima threshold (minima above this box score will be rejected)"
   ]
  },
  {
   "cell_type": "code",
   "execution_count": 6,
   "metadata": {},
   "outputs": [],
   "source": [
    "## Parameters that were used to create the box score file\n",
    "bx_sz <- 500 ## set this to match the box size used to create the box score file\n",
    "padval <- -1 ## set this to match the input pad character (start and end score of score_mat)"
   ]
  },
  {
   "cell_type": "code",
   "execution_count": 7,
   "metadata": {},
   "outputs": [],
   "source": [
    "## Read the score file\n",
    "score_mat <- read.table(file = scorefp, stringsAsFactors = FALSE, header = FALSE, comment.char = \"#\")\n",
    "colnames(score_mat) <- c('filepos_up', 'filepos_down', 'chrpos_up', 'chrpos_down', 'box_score')\n",
    "\n",
    "## Compute the number of elements in the score file\n",
    "noeles <- dim(score_mat)[1]\n",
    "\n",
    "## set up the first and last alleles (elements with valid score)\n",
    "firstele <- bx_sz\n",
    "lastele <- noeles - bx_sz + 1"
   ]
  },
  {
   "cell_type": "code",
   "execution_count": 8,
   "metadata": {},
   "outputs": [],
   "source": [
    "## Force the padded values to very large mountains\n",
    "score_mat[(score_mat[,5] == padval),5] <- 10000"
   ]
  },
  {
   "cell_type": "code",
   "execution_count": 9,
   "metadata": {},
   "outputs": [
    {
     "data": {
      "text/html": [
       "'m'"
      ],
      "text/latex": [
       "'m'"
      ],
      "text/markdown": [
       "'m'"
      ],
      "text/plain": [
       "[1] \"m\""
      ]
     },
     "metadata": {},
     "output_type": "display_data"
    }
   ],
   "source": [
    "## Set up code for looping to find valleys and mountains\n",
    "vsandps <- matrix(as.integer(0), nrow = noeles, ncol = 8)\n",
    "# colnames(vsandps) <- c('r-type', 'tx_idx')\n",
    "state <- 'm'\n",
    "state\n",
    "Tr1trig <- FALSE\n",
    "Mr1trig <- FALSE\n",
    "vpind <- 1\n",
    "rec2 <- 1\n",
    "poslast <- 0"
   ]
  },
  {
   "cell_type": "code",
   "execution_count": 10,
   "metadata": {},
   "outputs": [],
   "source": [
    "## Asymmetric Hysteresis\n",
    "## Find the peaks and valleys (psandvs)\n",
    "for (i in (firstele + 1):(lastele)) {\n",
    "    if (state == 'm') {\n",
    "        if (score_mat[i, 5] > (thresh + hyster_m)) Tr1trig <- FALSE\n",
    "        if ((score_mat[i, 5] < thresh) & !Tr1trig) {\n",
    "            rec2 <- i\n",
    "            level <- score_mat[i, 5]\n",
    "            Tr1trig <- TRUE }\n",
    "        if (score_mat[i, 5] < (thresh - hyster_v))  {\n",
    "            state <- 'v'\n",
    "            vsandps[vpind, 1] <- 'v'\n",
    "            # vsandps[vpind, 2] <- rec2\n",
    "            vsandps[vpind, 2:8] <- as.integer(c(rec2, score_mat[rec2, 4],\n",
    "                                  score_mat[rec2, 3], level, score_mat[rec2, 1],\n",
    "                                                0, score_mat[rec2, 2]))\n",
    "            vpind <- vpind + 1\n",
    "            Tr1trig <- FALSE }}\n",
    "    else {\n",
    "        if (score_mat[i, 5] < (thresh - hyster_v)) Mr1trig <- FALSE\n",
    "        if ((score_mat[i, 5] > thresh) & !Mr1trig) {\n",
    "            rec2 <- i\n",
    "            level <- score_mat[i, 5]\n",
    "            Mr1trig <- TRUE }\n",
    "        if (score_mat[i, 5] > (thresh + hyster_m))  {\n",
    "            state <- 'm'\n",
    "            vsandps[vpind, 1] <- 'm'\n",
    "            # vsandps[vpind, 2] <- rec2\n",
    "            vsandps[vpind, 2:8] <- as.integer(c(rec2, score_mat[rec2, 4],\n",
    "                                    score_mat[rec2, 3], level, score_mat[rec2, 1],\n",
    "                                                0, score_mat[rec2, 2]))\n",
    "            vpind <- vpind + 1\n",
    "            Mr1trig <- FALSE }\n",
    "        }\n",
    "    }"
   ]
  },
  {
   "cell_type": "code",
   "execution_count": 11,
   "metadata": {},
   "outputs": [],
   "source": [
    "## Add a column showing the number of variants for the last region\n",
    "vsandps[1, 7] <- vsandps[1, 6]\n",
    "for (i in 2:(vpind - 1)) {\n",
    "    vsandps[i, 7] <- as.integer(vsandps[i, 6]) - as.integer(vsandps[(i-1), 6])\n",
    "}\n",
    "## Most of vsandps is empty. Remove empty rows.\n",
    "vsandps <- vsandps[1:(vpind-1),]"
   ]
  },
  {
   "cell_type": "code",
   "execution_count": 12,
   "metadata": {},
   "outputs": [],
   "source": [
    "## Set up the vsandps column names\n",
    "colnames(vsandps) <- c('TYPE', 'VAR_POS', 'GEN_POS1', 'GEN_POS2',\n",
    "                       'UNKNOWN1', 'UNKNOWN2', 'NO_OF_VARS', 'FILE_POS')"
   ]
  },
  {
   "cell_type": "code",
   "execution_count": 13,
   "metadata": {},
   "outputs": [],
   "source": [
    "##### This code commented out for production version (this file format not used)\n",
    "## Point to the output file (this file is not needed at this point), \n",
    "## vsandpsfile <- 'HRC.chr9.corboxscores.noshrink.corcut.p45.2000.500.valleys.mountains.tsv'\n",
    "## vpfp <- paste(outpath, vsandpsfile, sep ='')"
   ]
  },
  {
   "cell_type": "code",
   "execution_count": 14,
   "metadata": {},
   "outputs": [],
   "source": [
    "##### This code commented out for production version (this file format not used)\n",
    "## Write out the appropriate subset of the iterated block, appended   \n",
    "## write.table(vsandps, file = vpfp, quote = FALSE,\n",
    "##            sep = '\\t', append = FALSE, row.names = FALSE, col.names = TRUE)"
   ]
  },
  {
   "cell_type": "code",
   "execution_count": 15,
   "metadata": {},
   "outputs": [],
   "source": [
    "# Prepare mountain/valley data extended file format\n",
    "vspall <- matrix(as.integer(0), nrow = vpind , ncol = 9)\n",
    "colnames(vspall) <- c('tx-type', 'tx_up', 'pos_up',\n",
    "                      'tx_dn', 'pos_dn', 'var_est',\n",
    "                      'vcnt_est', 'pos_est', 'pcnt_est')\n",
    "vspall <- as.data.frame(vspall)"
   ]
  },
  {
   "cell_type": "code",
   "execution_count": 16,
   "metadata": {},
   "outputs": [],
   "source": [
    "# Populate extended format of mountain and valley information\n",
    "vspall[1, 1] <- 'm1'\n",
    "vspall[1, 2] <- as.integer(0)\n",
    "vspall[1, 3] <- as.integer(0)\n",
    "vspall[1, 4] <- score_mat[1, 2]\n",
    "vspall[1, 5] <- score_mat[1, 4]\n",
    "vspall[1, 6] <- as.integer(1)\n",
    "vspall[1, 7] <- as.integer(0)\n",
    "for (i in 1:(vpind - 1)) {\n",
    "    # vspall[i + 1, 1] <- vsandps[i, 1]\n",
    "    if (vsandps[i, 1] =='m') vspall[i + 1, 1] <- paste('m',i, sep='') else vspall[i + 1, 1] <- paste('v',i, sep='')\n",
    "    vpidx <- as.integer(vsandps[i, 2])\n",
    "    vspall[i + 1, 2] <- score_mat[vpidx, 1]\n",
    "    vspall[i + 1, 3] <- score_mat[vpidx, 3]\n",
    "    vspall[i + 1, 4] <- score_mat[vpidx, 2]\n",
    "    vspall[i + 1, 5] <- score_mat[vpidx, 4]\n",
    "    vspall[i + 1, 6] <- as.integer((score_mat[vpidx, 1] + score_mat[vpidx, 2])/2)\n",
    "    vspall[i + 1, 7] <- as.integer(vspall[i + 1, 6]) - as.integer(vspall[i, 6 ])\n",
    "    vspall[i + 1, 8] <- as.integer((score_mat[vpidx, 3] + score_mat[vpidx, 4])/2)\n",
    "    vspall[i + 1, 9] <- as.integer(vspall[i + 1, 8]) - as.integer(vspall[i, 8 ])\n",
    "    # vspall[i + 1, 10] <- as.integer(vpidx)\n",
    "}"
   ]
  },
  {
   "cell_type": "code",
   "execution_count": 17,
   "metadata": {},
   "outputs": [],
   "source": [
    "## Create a more simplied format of moutains and valleys data (format)\n",
    "vspall2 <- cbind(vspall[1:(vpind -1),],vspall[2:vpind,] )\n",
    "vspall2 <- vspall2[, c(1,6, 8, 15:18)]\n",
    "vspall2 <- vspall2[c(1 , 2, 4, 5, 3, 6, 7)]\n",
    "colnames(vspall2) <- c('reg_type', 'start_var', 'end_var', 'num_vars', 'start_pos', 'end_pos', 'num_nts')\n",
    "## Even more improved format\n",
    "vspall3 <- vspall2[, c(1 , 5, 6, 4)]\n",
    "colnames(vspall3) <- c('TYPE', \"START\", \"STOP\", \"VARIANTS\")"
   ]
  },
  {
   "cell_type": "code",
   "execution_count": 18,
   "metadata": {},
   "outputs": [],
   "source": [
    "## Write the simplified format of mountains and valleys data, header first\n",
    "write(file = vpfp2, paste(\"## \", adesc, sep = ''))\n",
    "write(file = vpfp2, paste(\"## Valley, Mountain, Minima Detection, Run on \", Sys.Date(), sep = ''), append = TRUE)\n",
    "write(file = vpfp2, paste(\"## Input score file: \", scorefile, sep = ''), append = TRUE)\n",
    "write(file = vpfp2, paste(\"## Output File 1 (this file): \", vspallfile, sep = ''), append = TRUE)\n",
    "write(file = vpfp2, paste(\"## Output File 2 (companion minima file): \", minimafile, sep = ''), append = TRUE)\n",
    "write(file = vpfp2, paste(\"## Number of variants in score file: \", noeles, sep = ''), append = TRUE)\n",
    "write(file = vpfp2, paste(\"## Box size used in creating input file: \", bx_sz, sep = ''), append = TRUE)\n",
    "write(file = vpfp2, paste(\"## Valley Threshold (box score): \", thresh, sep = ''), append = TRUE)\n",
    "write(file = vpfp2, paste(\"## Valley Hysteresis: \", hyster_v, sep = ''), append = TRUE)\n",
    "write(file = vpfp2, paste(\"## Mountain Hysteresis: \", hyster_m, sep = ''), append = TRUE)\n",
    "write(file = vpfp2, paste(\"## No. Mountains/Valleys Detected: \", dim(vspall3)[1], sep = ''), append = TRUE)\n",
    "write(file = vpfp2, paste(\"## Column Titles: \", sep = ''), append = TRUE)\n",
    "coltitles <- c('TYPE, START, STOP, VARIANTS')\n",
    "write(file = vpfp2, paste(\"## \", coltitles, sep = ''), append = TRUE)"
   ]
  },
  {
   "cell_type": "code",
   "execution_count": 19,
   "metadata": {},
   "outputs": [],
   "source": [
    "## Write the simplified format of mountains and valleys data, data second\n",
    "## Write out the appropriate subset of the iterated block, appended to header  \n",
    "write.table(vspall3, file = vpfp2, quote = FALSE,\n",
    "            sep = '\\t', append = TRUE, row.names = FALSE, col.names = FALSE)"
   ]
  },
  {
   "cell_type": "code",
   "execution_count": 20,
   "metadata": {},
   "outputs": [],
   "source": [
    "## Set up loop variable for minima discovery\n",
    "fcnt <- 0\n",
    "fmax <- 100000000 ## Artificial limit, can be reduced for debugging\n",
    "minouts <- NULL\n",
    "for (i in 1:(dim(vspall)[1]-1)) {\n",
    "    vspi <- vspall[i,]\n",
    "    if (((vspall[i + 1, 4]) - vspall[i, 2]) > maxm) {\n",
    "        fcnt <- fcnt + 1\n",
    "        if (fcnt > fmax) break\n",
    "        p2 <- vspall[i + 1, 4]\n",
    "        p1 <- vspall[i, 2]\n",
    "        p1p <- which(score_mat[,2] >= p1)[1]\n",
    "        p2p <- which(score_mat[,2] >= p2)[1]\n",
    "        testv <- score_mat[p1p:p2p, 5]\n",
    "        its <- 1 + as.integer(length(testv)/wsize)\n",
    "        testmin <- rep(0, times = its)\n",
    "        regstart <- rep(0, times = its)\n",
    "        for (j in 1:its) {\n",
    "            regstart[j] <- (j - 1) * wsize + 1\n",
    "            wmin <- min(testv[((j - 1) * wsize + 1):(j * wsize)])   \n",
    "            testmin[j] <- which(testv[((j - 1) * wsize + 1):(j * wsize)] == wmin)[1] + (j - 1) * wsize\n",
    "            }\n",
    "        skip1st <- 2:(length(testmin) - 1)\n",
    "        testmin <- testmin[skip1st]\n",
    "        testcut <- testmin[testv[testmin] < extthresh]\n",
    "        if (length(testcut) > 0) {\n",
    "            minouts <- rbind(minouts, cbind(paste(vspi[1,1],'.',1:length(testcut), sep =''),\n",
    "                        as.integer((score_mat[(testcut + p1p - 1), 3] + score_mat[(testcut + p1p - 1), 4])/2),\n",
    "                        score_mat[(testcut + p1p - 1), 2],              \n",
    "                        rep(score_mat[(p1p), 2], times = length(testcut)),\n",
    "                        score_mat[(testcut + p1p - 1),5]))\n",
    "            }\n",
    "        }\n",
    "    }"
   ]
  },
  {
   "cell_type": "code",
   "execution_count": 21,
   "metadata": {},
   "outputs": [],
   "source": [
    "## Repackage output, compute inter minima variant count (from nears upstream minima)\n",
    "minouts2 <- minouts\n",
    "minouts2 <- cbind(minouts2, as.integer(minouts2[,3]) - as.integer(minouts2[,4]), as.integer(minouts2[,3]))\n",
    "minouts2[1, 7] <- minouts2[1, 6]\n",
    "j <- 1\n",
    "for (i in 2:dim(minouts2)[1]) {\n",
    "    if (minouts2[i, 4] != minouts2[i - 1, 4]) {\n",
    "        j <- i\n",
    "        minouts2[i, 7] <- as.integer(minouts2[i, 3]) - as.integer(minouts2[i, 4])}\n",
    "    else { minouts2[i, 7] <- as.integer(minouts2[i, 3]) - \n",
    "          as.integer(minouts2[i, 4]) - sum(as.integer(minouts2[j:(i - 1), 7]))}\n",
    "}"
   ]
  },
  {
   "cell_type": "code",
   "execution_count": 22,
   "metadata": {},
   "outputs": [],
   "source": [
    "## Set up the minouts variable for writing to a file (Intermediate format)\n",
    "colnames(minouts) <- c('SUBTYE', 'POSITION', 'VARIANT_POS', 'MOUNT_START_V', 'MINIMA_SCORE')\n",
    "# head(minouts)"
   ]
  },
  {
   "cell_type": "code",
   "execution_count": 23,
   "metadata": {},
   "outputs": [],
   "source": [
    "##### This code commented out for production version (this file format not used)\n",
    "## Point to the output minima file (raw version)\n",
    "## minfile <- 'HRC.chr9.corboxscores.noshrink.corcut.p45.2000.500.minouts.tsv'\n",
    "## minfp <- paste(scorepath, minfile, sep ='')"
   ]
  },
  {
   "cell_type": "code",
   "execution_count": 24,
   "metadata": {},
   "outputs": [],
   "source": [
    "##### This code commented out for production version (this file format not used)\n",
    "## Write out the appropriate raw minima file   \n",
    "## write.table(minouts, file = minfp, quote = FALSE,\n",
    "##            sep = '\\t', append = FALSE, row.names = FALSE, col.names = TRUE)"
   ]
  },
  {
   "cell_type": "code",
   "execution_count": 25,
   "metadata": {},
   "outputs": [],
   "source": [
    "## Repackage output again, with just essential columns and proper column names \n",
    "minouts3 <- minouts2[, c(1, 2, 7, 5)]\n",
    "colnames(minouts3) <- c(\"SUBTYPE\", \"POSITION\", \"VARIANTS\", \"BOXSCORE\")"
   ]
  },
  {
   "cell_type": "code",
   "execution_count": 26,
   "metadata": {},
   "outputs": [],
   "source": [
    "## Filter out minima that had NA in scoring (had less than 200 common variants to meet wsize)\n",
    "## Filter out small regions of minima (variants less than wsize)\n",
    "minouts3 <- minouts3[!(is.na(minouts3[,2]) | is.na(minouts3[,3]) | is.na(minouts3[,4])), ]\n",
    "minouts3 <- minouts3[!(as.integer(minouts3[,3]) <= wsize), ]"
   ]
  },
  {
   "cell_type": "code",
   "execution_count": 27,
   "metadata": {},
   "outputs": [],
   "source": [
    "write(file = mnma, paste(\"## \", adesc, sep = ''))\n",
    "write(file = mnma, paste(\"## Valley, Mountain, Minima Detection, Run on \", Sys.Date(), sep = ''), append = TRUE)\n",
    "write(file = mnma, paste(\"## Input score file: \", scorefile, sep = ''), append = TRUE)\n",
    "write(file = mnma, paste(\"## Output File 1 (companion file): \", vspallfile, sep = ''), append = TRUE)\n",
    "write(file = mnma, paste(\"## Output File 2 (this file): \", minimafile, sep = ''), append = TRUE)\n",
    "write(file = mnma, paste(\"## Number of variants in score file: \", noeles, sep = ''), append = TRUE)\n",
    "write(file = mnma, paste(\"## Minimum Mountain to Find Minima: \", maxm, sep = ''), append = TRUE)\n",
    "write(file = mnma, paste(\"## Window Size (Variants) to Score Minima: \", wsize, sep = ''), append = TRUE)\n",
    "write(file = mnma, paste(\"## Highest Allowed Minima (Box Score): \", extthresh, sep = ''), append = TRUE)\n",
    "write(file = mnma, paste(\"## Total Number of new Minima Found: \", dim(minouts3)[1], sep = ''), append = TRUE)\n",
    "write(file = mnma, paste(\"## Column Titles: \", sep = ''), append = TRUE)\n",
    "coltitles <- c('SUBTYPE, POSITION, VARIANTS, BOXSCORE')\n",
    "write(file = mnma, paste(\"## \", coltitles, sep = ''), append = TRUE)"
   ]
  },
  {
   "cell_type": "code",
   "execution_count": 28,
   "metadata": {},
   "outputs": [],
   "source": [
    "## Write out the appropriate subset of the iterated block, appended   \n",
    "write.table(minouts3, file = mnma, quote = FALSE,\n",
    "            sep = '\\t', append = TRUE, row.names = FALSE, col.names = FALSE)"
   ]
  },
  {
   "cell_type": "code",
   "execution_count": null,
   "metadata": {},
   "outputs": [],
   "source": []
  }
 ],
 "metadata": {
  "kernelspec": {
   "display_name": "R4.0.0",
   "language": "R",
   "name": "ir"
  },
  "language_info": {
   "codemirror_mode": "r",
   "file_extension": ".r",
   "mimetype": "text/x-r-source",
   "name": "R",
   "pygments_lexer": "r",
   "version": "4.0.0"
  }
 },
 "nbformat": 4,
 "nbformat_minor": 4
}
